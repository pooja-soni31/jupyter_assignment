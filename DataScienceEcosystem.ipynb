{
 "cells": [
  {
   "cell_type": "markdown",
   "id": "a7597f21-79e0-46f2-b8a0-e3235a02622f",
   "metadata": {},
   "source": [
    "# Data Science Tools and Ecosystem"
   ]
  },
  {
   "cell_type": "markdown",
   "id": "489109ad-e37f-4f72-b3f0-5600fe1f7724",
   "metadata": {},
   "source": [
    "In this notebook, Data Science Tools and Ecosystem are summarized"
   ]
  },
  {
   "cell_type": "markdown",
   "id": "9b7c14f6-cb20-4eb0-9ade-190caa4e543f",
   "metadata": {},
   "source": [
    "Some of the popular languages that Data Scientists use are:\n",
    "1. Python\n",
    "1. R\n",
    "1. Java"
   ]
  },
  {
   "cell_type": "markdown",
   "id": "2cd2b3cf-8eaf-468a-ae02-fb96f3b02f2e",
   "metadata": {},
   "source": [
    "Some of the commonly used libraries used by Data Scientists include:\n",
    "1. matplotlib\n",
    "2. numpy\n",
    "3. panda"
   ]
  },
  {
   "cell_type": "markdown",
   "id": "282e55a2-a81b-4607-ab4d-1d175be660b9",
   "metadata": {},
   "source": [
    "||Data Science Tools|\n",
    "|--|:---------------|\n",
    "| 1 | RStudio         |\n",
    "| 2 | TensorFlow      |\n",
    "| 3 | Apache Spark    |"
   ]
  },
  {
   "cell_type": "markdown",
   "id": "68b00023-30c2-4367-9c31-36b68beb181a",
   "metadata": {},
   "source": [
    "### Below are a few examples of evaluating arithmetic expressions in Python."
   ]
  },
  {
   "cell_type": "code",
   "execution_count": 14,
   "id": "1cc4b206-4292-4b2d-b541-2aab56ad2230",
   "metadata": {},
   "outputs": [
    {
     "data": {
      "text/plain": [
       "17"
      ]
     },
     "execution_count": 14,
     "metadata": {},
     "output_type": "execute_result"
    }
   ],
   "source": [
    "#This a simple arithmetic expression to mutiply then add integers.\n",
    "(3*4)+5"
   ]
  },
  {
   "cell_type": "code",
   "execution_count": 15,
   "id": "306f865a-bb71-4f2d-bc73-37c9c38dc2a9",
   "metadata": {},
   "outputs": [
    {
     "name": "stdout",
     "output_type": "stream",
     "text": [
      "3.3333333333333335\n"
     ]
    }
   ],
   "source": [
    "#This will convert 200 minutes to hours by diving by 60.\n",
    "hours=200/60\n",
    "print(hours)"
   ]
  },
  {
   "cell_type": "markdown",
   "id": "c55f3de9-d4c8-4290-a3c9-d7e64c26f18e",
   "metadata": {},
   "source": [
    "**Objectives:**\n",
    "* List popular languages for data Science.\n",
    "* To list some of the libraries used by Data Scientists.\n",
    "* Examples of some Data Science Tools.\n",
    "* Examples of evaluating arithmetic expressions in Python.\n",
    "\n"
   ]
  },
  {
   "cell_type": "markdown",
   "id": "4d92cab0-5f71-4265-a1b0-f054262e10fb",
   "metadata": {},
   "source": [
    "## Author\n",
    "Pooja Soni"
   ]
  }
 ],
 "metadata": {
  "kernelspec": {
   "display_name": "Python 3 (ipykernel)",
   "language": "python",
   "name": "python3"
  },
  "language_info": {
   "codemirror_mode": {
    "name": "ipython",
    "version": 3
   },
   "file_extension": ".py",
   "mimetype": "text/x-python",
   "name": "python",
   "nbconvert_exporter": "python",
   "pygments_lexer": "ipython3",
   "version": "3.11.5"
  }
 },
 "nbformat": 4,
 "nbformat_minor": 5
}
